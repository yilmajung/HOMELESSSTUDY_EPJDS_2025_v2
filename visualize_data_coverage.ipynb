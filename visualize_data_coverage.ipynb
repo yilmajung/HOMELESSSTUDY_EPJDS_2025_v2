{
 "cells": [
  {
   "cell_type": "code",
   "execution_count": 1,
   "id": "bbedb77f",
   "metadata": {},
   "outputs": [],
   "source": [
    "import pandas as pd\n",
    "import numpy as np\n",
    "import matplotlib.pyplot as plt\n",
    "import glob\n",
    "import os\n",
    "import geopandas as gpd\n",
    "import geoplot.crs as gcrs\n",
    "import geoplot as gplt\n",
    "import re\n",
    "from geopy.distance import great_circle\n",
    "from shapely.geometry import Polygon, LineString, Point, MultiPolygon\n",
    "from shapely import wkt\n",
    "import folium"
   ]
  },
  {
   "cell_type": "code",
   "execution_count": 2,
   "id": "412097bd",
   "metadata": {},
   "outputs": [
    {
     "name": "stderr",
     "output_type": "stream",
     "text": [
      "/var/folders/y6/z9h695vx2w3gbjh7z32h4j9m0000gn/T/ipykernel_1756/947270512.py:2: DtypeWarning: Columns (6,8) have mixed types. Specify dtype option on import or set low_memory=False.\n",
      "  df = pd.read_csv('data/df_combined_cleaned_20250902.csv')\n"
     ]
    }
   ],
   "source": [
    "# Load the cleaned datasets for analysis and visualization\n",
    "df = pd.read_csv('data/df_combined_cleaned_20250902.csv')\n",
    "df2 = pd.read_csv('data/df_combined2_cleaned_20250902.csv')"
   ]
  },
  {
   "cell_type": "code",
   "execution_count": 3,
   "id": "74f67db1",
   "metadata": {},
   "outputs": [
    {
     "data": {
      "text/plain": [
       "source\n",
       "Mapillary    1803853\n",
       "311           328980\n",
       "311            31155\n",
       "Name: count, dtype: int64"
      ]
     },
     "execution_count": 3,
     "metadata": {},
     "output_type": "execute_result"
    }
   ],
   "source": [
    "df['source'].value_counts()"
   ]
  },
  {
   "cell_type": "code",
   "execution_count": 4,
   "id": "2a1d6a39",
   "metadata": {},
   "outputs": [
    {
     "data": {
      "text/plain": [
       "source\n",
       "Mapillary    378008\n",
       "311          325788\n",
       "Name: count, dtype: int64"
      ]
     },
     "execution_count": 4,
     "metadata": {},
     "output_type": "execute_result"
    }
   ],
   "source": [
    "df2['source'].value_counts()"
   ]
  },
  {
   "cell_type": "code",
   "execution_count": 5,
   "id": "982f7a77",
   "metadata": {},
   "outputs": [
    {
     "data": {
      "text/plain": [
       "(360135, 12)"
      ]
     },
     "execution_count": 5,
     "metadata": {},
     "output_type": "execute_result"
    }
   ],
   "source": [
    "# Convert data type of 'source' column to string\n",
    "df['source'] = df['source'].astype(str)\n",
    "df[df['source'] == '311'].shape"
   ]
  },
  {
   "cell_type": "code",
   "execution_count": 6,
   "id": "aedeecf4",
   "metadata": {},
   "outputs": [
    {
     "data": {
      "text/plain": [
       "source\n",
       "Mapillary    1803853\n",
       "311           360135\n",
       "Name: count, dtype: int64"
      ]
     },
     "execution_count": 6,
     "metadata": {},
     "output_type": "execute_result"
    }
   ],
   "source": [
    "df['source'].value_counts()"
   ]
  },
  {
   "cell_type": "code",
   "execution_count": 7,
   "id": "3bfa6614",
   "metadata": {},
   "outputs": [
    {
     "data": {
      "text/html": [
       "<div>\n",
       "<style scoped>\n",
       "    .dataframe tbody tr th:only-of-type {\n",
       "        vertical-align: middle;\n",
       "    }\n",
       "\n",
       "    .dataframe tbody tr th {\n",
       "        vertical-align: top;\n",
       "    }\n",
       "\n",
       "    .dataframe thead th {\n",
       "        text-align: right;\n",
       "    }\n",
       "</style>\n",
       "<table border=\"1\" class=\"dataframe\">\n",
       "  <thead>\n",
       "    <tr style=\"text-align: right;\">\n",
       "      <th></th>\n",
       "      <th>timestamp</th>\n",
       "      <th>bboxid</th>\n",
       "      <th>latitude</th>\n",
       "      <th>longitude</th>\n",
       "      <th>ground_truth</th>\n",
       "      <th>category</th>\n",
       "      <th>source</th>\n",
       "      <th>geometry_bbox</th>\n",
       "      <th>center_latlon</th>\n",
       "      <th>year</th>\n",
       "      <th>month</th>\n",
       "      <th>day</th>\n",
       "    </tr>\n",
       "  </thead>\n",
       "  <tbody>\n",
       "    <tr>\n",
       "      <th>0</th>\n",
       "      <td>2016-11-09 14:15:57.000</td>\n",
       "      <td>bbox_10_14</td>\n",
       "      <td>37.720555</td>\n",
       "      <td>-122.484861</td>\n",
       "      <td>0.0</td>\n",
       "      <td>Homeless Tents</td>\n",
       "      <td>Mapillary</td>\n",
       "      <td>POLYGON ((-122.4862707014277 37.71914041535512...</td>\n",
       "      <td>(37.71986168151697, -122.48535268128838)</td>\n",
       "      <td>2016</td>\n",
       "      <td>11</td>\n",
       "      <td>9</td>\n",
       "    </tr>\n",
       "    <tr>\n",
       "      <th>1</th>\n",
       "      <td>2016-11-09 14:15:58.000</td>\n",
       "      <td>bbox_10_14</td>\n",
       "      <td>37.720457</td>\n",
       "      <td>-122.484861</td>\n",
       "      <td>0.0</td>\n",
       "      <td>Homeless Tents</td>\n",
       "      <td>Mapillary</td>\n",
       "      <td>POLYGON ((-122.4862707014277 37.71914041535512...</td>\n",
       "      <td>(37.71986168151697, -122.48535268128838)</td>\n",
       "      <td>2016</td>\n",
       "      <td>11</td>\n",
       "      <td>9</td>\n",
       "    </tr>\n",
       "    <tr>\n",
       "      <th>2</th>\n",
       "      <td>2016-11-09 14:15:59.000</td>\n",
       "      <td>bbox_10_14</td>\n",
       "      <td>37.720360</td>\n",
       "      <td>-122.484856</td>\n",
       "      <td>0.0</td>\n",
       "      <td>Homeless Tents</td>\n",
       "      <td>Mapillary</td>\n",
       "      <td>POLYGON ((-122.4862707014277 37.71914041535512...</td>\n",
       "      <td>(37.71986168151697, -122.48535268128838)</td>\n",
       "      <td>2016</td>\n",
       "      <td>11</td>\n",
       "      <td>9</td>\n",
       "    </tr>\n",
       "    <tr>\n",
       "      <th>3</th>\n",
       "      <td>2016-11-09 14:16:00.000</td>\n",
       "      <td>bbox_10_14</td>\n",
       "      <td>37.720258</td>\n",
       "      <td>-122.484856</td>\n",
       "      <td>0.0</td>\n",
       "      <td>Homeless Tents</td>\n",
       "      <td>Mapillary</td>\n",
       "      <td>POLYGON ((-122.4862707014277 37.71914041535512...</td>\n",
       "      <td>(37.71986168151697, -122.48535268128838)</td>\n",
       "      <td>2016</td>\n",
       "      <td>11</td>\n",
       "      <td>9</td>\n",
       "    </tr>\n",
       "    <tr>\n",
       "      <th>4</th>\n",
       "      <td>2016-11-09 14:16:01.000</td>\n",
       "      <td>bbox_10_14</td>\n",
       "      <td>37.720156</td>\n",
       "      <td>-122.484856</td>\n",
       "      <td>0.0</td>\n",
       "      <td>Homeless Tents</td>\n",
       "      <td>Mapillary</td>\n",
       "      <td>POLYGON ((-122.4862707014277 37.71914041535512...</td>\n",
       "      <td>(37.71986168151697, -122.48535268128838)</td>\n",
       "      <td>2016</td>\n",
       "      <td>11</td>\n",
       "      <td>9</td>\n",
       "    </tr>\n",
       "  </tbody>\n",
       "</table>\n",
       "</div>"
      ],
      "text/plain": [
       "                 timestamp      bboxid   latitude   longitude  ground_truth  \\\n",
       "0  2016-11-09 14:15:57.000  bbox_10_14  37.720555 -122.484861           0.0   \n",
       "1  2016-11-09 14:15:58.000  bbox_10_14  37.720457 -122.484861           0.0   \n",
       "2  2016-11-09 14:15:59.000  bbox_10_14  37.720360 -122.484856           0.0   \n",
       "3  2016-11-09 14:16:00.000  bbox_10_14  37.720258 -122.484856           0.0   \n",
       "4  2016-11-09 14:16:01.000  bbox_10_14  37.720156 -122.484856           0.0   \n",
       "\n",
       "         category     source  \\\n",
       "0  Homeless Tents  Mapillary   \n",
       "1  Homeless Tents  Mapillary   \n",
       "2  Homeless Tents  Mapillary   \n",
       "3  Homeless Tents  Mapillary   \n",
       "4  Homeless Tents  Mapillary   \n",
       "\n",
       "                                       geometry_bbox  \\\n",
       "0  POLYGON ((-122.4862707014277 37.71914041535512...   \n",
       "1  POLYGON ((-122.4862707014277 37.71914041535512...   \n",
       "2  POLYGON ((-122.4862707014277 37.71914041535512...   \n",
       "3  POLYGON ((-122.4862707014277 37.71914041535512...   \n",
       "4  POLYGON ((-122.4862707014277 37.71914041535512...   \n",
       "\n",
       "                              center_latlon  year  month  day  \n",
       "0  (37.71986168151697, -122.48535268128838)  2016     11    9  \n",
       "1  (37.71986168151697, -122.48535268128838)  2016     11    9  \n",
       "2  (37.71986168151697, -122.48535268128838)  2016     11    9  \n",
       "3  (37.71986168151697, -122.48535268128838)  2016     11    9  \n",
       "4  (37.71986168151697, -122.48535268128838)  2016     11    9  "
      ]
     },
     "execution_count": 7,
     "metadata": {},
     "output_type": "execute_result"
    }
   ],
   "source": [
    "df.head()"
   ]
  },
  {
   "cell_type": "code",
   "execution_count": 8,
   "id": "dfbbc2f8",
   "metadata": {},
   "outputs": [],
   "source": [
    "# Convert df to geo data frame\n",
    "df = gpd.GeoDataFrame(df, geometry=gpd.points_from_xy(df.longitude, df.latitude), crs=4326)\n",
    "df2 = gpd.GeoDataFrame(df2, geometry=gpd.points_from_xy(df2.longitude, df2.latitude), crs=4326)"
   ]
  },
  {
   "cell_type": "code",
   "execution_count": 9,
   "id": "2cd5d5c1",
   "metadata": {},
   "outputs": [
    {
     "name": "stdout",
     "output_type": "stream",
     "text": [
      "(2163988, 13)\n",
      "(703796, 13)\n"
     ]
    }
   ],
   "source": [
    "print(df.shape)\n",
    "print(df2.shape)"
   ]
  },
  {
   "cell_type": "code",
   "execution_count": null,
   "id": "04f0347f",
   "metadata": {},
   "outputs": [
    {
     "name": "stderr",
     "output_type": "stream",
     "text": [
      "100%|██████████| 302524/302524 [00:48<00:00, 6191.98it/s] \n",
      "100%|██████████| 23264/23264 [00:02<00:00, 9326.05it/s] \n"
     ]
    }
   ],
   "source": [
    "from tqdm import tqdm\n",
    "\n",
    "# Create a 311 map centered at San Francisco\n",
    "m2 = folium.Map(location=[37.7749, -122.4194], zoom_start=12, tiles='CartoDB positron')\n",
    "\n",
    "# Add points to the map\n",
    "for _, row in tqdm(df2[(df2['source']=='311') & (df2['ground_truth']==1)].iterrows(), \n",
    "total=df2[(df2['source']=='311') & (df2['ground_truth']==1)].shape[0]):\n",
    "    folium.CircleMarker(\n",
    "        location = [row['latitude'], row['longitude']],\n",
    "        radius = .3,\n",
    "        color = \"#e14b31\",\n",
    "        fill = True,\n",
    "        opacity = 0.3,\n",
    "    ).add_to(m2)\n",
    "\n",
    "for _, row in tqdm(df2[(df2['source']=='311') & (df2['ground_truth']==0)].iterrows(), \n",
    "total=df2[(df2['source']=='311') & (df2['ground_truth']==0)].shape[0]):\n",
    "    folium.CircleMarker(\n",
    "        location = [row['latitude'], row['longitude']],\n",
    "        radius = .3,\n",
    "        color = \"#1984c5\",\n",
    "        fill = True,\n",
    "        opacity = 0.3,\n",
    "    ).add_to(m2)"
   ]
  },
  {
   "cell_type": "code",
   "execution_count": 22,
   "id": "015a1c5c",
   "metadata": {},
   "outputs": [
    {
     "name": "stderr",
     "output_type": "stream",
     "text": [
      "100%|██████████| 377800/377800 [00:51<00:00, 7346.10it/s] \n",
      "100%|██████████| 208/208 [00:00<00:00, 1467.63it/s]\n"
     ]
    }
   ],
   "source": [
    "from tqdm import tqdm\n",
    "\n",
    "# Create a 311 map centered at San Francisco\n",
    "m3 = folium.Map(location=[37.7749, -122.4194], zoom_start=12, tiles='CartoDB positron')\n",
    "\n",
    "# Add points to the map\n",
    "for _, row in tqdm(df2[(df2['source']=='Mapillary') & (df2['ground_truth']==0)].iterrows(), \n",
    "total=df2[(df2['source']=='Mapillary') & (df2['ground_truth']==0)].shape[0]):\n",
    "    folium.CircleMarker(\n",
    "        location = [row['latitude'], row['longitude']],\n",
    "        radius = .3,\n",
    "        color = \"#1984c5\",\n",
    "        fill = True,\n",
    "        opacity = 0.3,\n",
    "    ).add_to(m3)\n",
    "\n",
    "for _, row in tqdm(df2[(df2['source']=='Mapillary') & (df2['ground_truth']==1)].iterrows(), \n",
    "total=df2[(df2['source']=='Mapillary') & (df2['ground_truth']==1)].shape[0]):\n",
    "    folium.CircleMarker(\n",
    "        location = [row['latitude'], row['longitude']],\n",
    "        radius = .3,\n",
    "        color = \"#e14b31\",\n",
    "        fill = True,\n",
    "        opacity = 0.8,\n",
    "    ).add_to(m3)\n"
   ]
  },
  {
   "cell_type": "code",
   "execution_count": 23,
   "id": "fc81a415",
   "metadata": {},
   "outputs": [],
   "source": [
    "# Save the maps to HTML files\n",
    "m2.save('311_ground_truth_map_20250906.html')\n",
    "m3.save('mapillary_ground_truth_map_20250906.html')"
   ]
  },
  {
   "cell_type": "code",
   "execution_count": 42,
   "id": "48180ec4",
   "metadata": {},
   "outputs": [],
   "source": [
    "# Load the amenities data for San Francisco from OpenStreetMap\n",
    "df_map = pd.read_csv('data/sf_osm_amenities_2016_2024.csv')\n",
    "\n",
    "# Filter the dataframe to only include data from the snapshot date '2024-05-31'\n",
    "df_map = df_map[df_map['snapshot_date']=='2024-05-31']"
   ]
  },
  {
   "cell_type": "code",
   "execution_count": 43,
   "id": "f8b6de53",
   "metadata": {},
   "outputs": [
    {
     "data": {
      "text/plain": [
       "amenity\n",
       "bench               3060\n",
       "restaurant          1831\n",
       "fast_food            417\n",
       "place_of_worship     400\n",
       "school               271\n",
       "bank                 230\n",
       "atm                  171\n",
       "social_facility       73\n",
       "shelter               46\n",
       "university            31\n",
       "college               19\n",
       "police                18\n",
       "cinema                17\n",
       "Name: count, dtype: int64"
      ]
     },
     "execution_count": 43,
     "metadata": {},
     "output_type": "execute_result"
    }
   ],
   "source": [
    "# Filter the dataframe to only include amenities of interest\n",
    "amenities_of_interest = ['bench', 'restaurant', 'fast_food', 'place_of_worship', 'school', 'bank', \n",
    "                         'atm', 'social_facility', 'shelter', 'university', 'college', 'police', 'cinema']\n",
    "\n",
    "df_map = df_map[df_map['amenity'].isin(amenities_of_interest)]\n",
    "df_map['amenity'].value_counts()"
   ]
  },
  {
   "cell_type": "code",
   "execution_count": null,
   "id": "2a94a020",
   "metadata": {},
   "outputs": [
    {
     "name": "stderr",
     "output_type": "stream",
     "text": [
      "100%|██████████| 6584/6584 [00:00<00:00, 10225.02it/s]\n"
     ]
    }
   ],
   "source": [
    "from tqdm import tqdm\n",
    "\n",
    "# Create a amenity map centered at San Francisco\n",
    "m4 = folium.Map(location=[37.7749, -122.4194], zoom_start=12, tiles='CartoDB positron')\n",
    "\n",
    "# Add amenity points to the map with different colors based on amenity type\n",
    "# Iterate through each row in the dataframe and add a CircleMarker for each amenity type\n",
    "for _, row in tqdm(df_map.iterrows(), total=df_map.shape[0]):\n",
    "    color = \"\"  # Default color\n",
    "    if row['amenity'] == 'restaurant':\n",
    "        color = \"#1984c5\"\n",
    "    elif row['amenity'] == 'bench':\n",
    "        color = \"#e14b31\"\n",
    "    elif row['amenity'] == 'fast_food':\n",
    "        color = \"#2ca02c\"\n",
    "    elif row['amenity'] == 'place_of_worship':\n",
    "        color = \"#ff7f0e\"\n",
    "    elif row['amenity'] == 'school':\n",
    "        color = \"#9467bd\"\n",
    "    elif row['amenity'] == 'bank':\n",
    "        color = \"#8c564b\"\n",
    "    elif row['amenity'] == 'atm':\n",
    "        color = \"#d62728\"\n",
    "    elif row['amenity'] == 'social_facility':\n",
    "        color = \"#17becf\"\n",
    "    elif row['amenity'] == 'shelter':\n",
    "        color = \"#bcbd22\"\n",
    "    elif row['amenity'] == 'university':\n",
    "        color = \"#ffbb78\"\n",
    "    elif row['amenity'] == 'college':\n",
    "        color = \"#aec7e8\"\n",
    "    elif row['amenity'] == 'police':\n",
    "        color = \"#c49c94\"\n",
    "    elif row['amenity'] == 'cinema':\n",
    "        color = \"#98df8a\"\n",
    "    folium.CircleMarker(\n",
    "        location = [row['lat'], row['lon']],\n",
    "        radius = 1.5,\n",
    "        color = color,\n",
    "        fill = True,\n",
    "        opacity = 0.5,\n",
    "    ).add_to(m4)\n",
    "\n",
    "# Add a legend to the map for the different amenity types\n",
    "legend_html = '''\n",
    "<div style=\"position: fixed;\n",
    "     bottom: 50px; left: 50px; width: 170px; height: 300px;\n",
    "     border:2px solid grey; z-index:9999; font-size:14px;\n",
    "     background-color:white; padding: 10px;\">\n",
    "     <b>Amenity Types</b><br>\n",
    "     <i style=\"background:#1984c5; width:10px; height:10px; display:inline-block;\"></i> Restaurant<br>\n",
    "     <i style=\"background:#e14b31; width:10px; height:10px; display:inline-block;\"></i> Bench<br>\n",
    "     <i style=\"background:#2ca02c; width:10px; height:10px; display:inline-block;\"></i> Fast Food<br>\n",
    "     <i style=\"background:#ff7f0e; width:10px; height:10px; display:inline-block;\"></i> Place of Worship<br>\n",
    "     <i style=\"background:#9467bd; width:10px; height:10px; display:inline-block;\"></i> School<br>\n",
    "     <i style=\"background:#8c564b; width:10px; height:10px; display:inline-block;\"></i> Bank<br>\n",
    "     <i style=\"background:#d62728; width:10px; height:10px; display:inline-block;\"></i> ATM<br>\n",
    "     <i style=\"background:#17becf; width:10px; height:10px; display:inline-block;\"></i> Social Facility<br>\n",
    "     <i style=\"background:#bcbd22; width:10px; height:10px; display:inline-block;\"></i> Shelter<br>\n",
    "     <i style=\"background:#ffbb78; width:10px; height:10px; display:inline-block;\"></i> University<br>\n",
    "     <i style=\"background:#aec7e8; width:10px; height:10px; display:inline-block;\"></i> College<br>\n",
    "     <i style=\"background:#c49c94; width:10px; height:10px; display:inline-block;\"></i> Police<br>\n",
    "     <i style=\"background:#98df8a; width:10px; height:10px; display:inline-block;\"></i> Cinema<br>\n",
    "</div>\n",
    "'''\n",
    "\n",
    "# Add the legend HTML to the map with the updated title \"Amenity Types\"\n",
    "m4.get_root().html.add_child(folium.Element(legend_html))\n",
    "\n",
    "# Save the amenity map to an HTML file\n",
    "m4.save('amenity_map_20250906.html')\n"
   ]
  },
  {
   "cell_type": "code",
   "execution_count": 53,
   "id": "2f16436b",
   "metadata": {},
   "outputs": [],
   "source": [
    "# Load the amenities data for San Francisco from OpenStreetMap\n",
    "df_map = pd.read_csv('data/sf_osm_amenities_2016_2024.csv')\n",
    "\n",
    "# Filter the dataframe to only include data from the snapshot date '2024-05-31'\n",
    "df_map = df_map[df_map['snapshot_date']=='2024-05-31']"
   ]
  },
  {
   "cell_type": "code",
   "execution_count": 54,
   "id": "8a30db94",
   "metadata": {},
   "outputs": [
    {
     "data": {
      "text/html": [
       "<div>\n",
       "<style scoped>\n",
       "    .dataframe tbody tr th:only-of-type {\n",
       "        vertical-align: middle;\n",
       "    }\n",
       "\n",
       "    .dataframe tbody tr th {\n",
       "        vertical-align: top;\n",
       "    }\n",
       "\n",
       "    .dataframe thead th {\n",
       "        text-align: right;\n",
       "    }\n",
       "</style>\n",
       "<table border=\"1\" class=\"dataframe\">\n",
       "  <thead>\n",
       "    <tr style=\"text-align: right;\">\n",
       "      <th></th>\n",
       "      <th>snapshot_date</th>\n",
       "      <th>osm_type</th>\n",
       "      <th>osm_id</th>\n",
       "      <th>name</th>\n",
       "      <th>feature_type</th>\n",
       "      <th>amenity</th>\n",
       "      <th>social_facility</th>\n",
       "      <th>highway</th>\n",
       "      <th>bridge</th>\n",
       "      <th>tags</th>\n",
       "      <th>lat</th>\n",
       "      <th>lon</th>\n",
       "    </tr>\n",
       "  </thead>\n",
       "  <tbody>\n",
       "    <tr>\n",
       "      <th>39915</th>\n",
       "      <td>2024-05-31</td>\n",
       "      <td>node</td>\n",
       "      <td>140982581.0</td>\n",
       "      <td>Opera Plaza Cinema</td>\n",
       "      <td>amenity:cinema</td>\n",
       "      <td>cinema</td>\n",
       "      <td>NaN</td>\n",
       "      <td>NaN</td>\n",
       "      <td>NaN</td>\n",
       "      <td>{'wikidata': 'Q44634616', 'addr:city': 'San Fr...</td>\n",
       "      <td>37.781376</td>\n",
       "      <td>-122.421561</td>\n",
       "    </tr>\n",
       "    <tr>\n",
       "      <th>39916</th>\n",
       "      <td>2024-05-31</td>\n",
       "      <td>node</td>\n",
       "      <td>281652642.0</td>\n",
       "      <td>John O'Connell High School</td>\n",
       "      <td>amenity:school</td>\n",
       "      <td>school</td>\n",
       "      <td>NaN</td>\n",
       "      <td>NaN</td>\n",
       "      <td>NaN</td>\n",
       "      <td>{'amenity': 'school', 'name': \"John O'Connell ...</td>\n",
       "      <td>37.759543</td>\n",
       "      <td>-122.414183</td>\n",
       "    </tr>\n",
       "    <tr>\n",
       "      <th>39917</th>\n",
       "      <td>2024-05-31</td>\n",
       "      <td>node</td>\n",
       "      <td>286132370.0</td>\n",
       "      <td>Mel's Drive-in</td>\n",
       "      <td>amenity:restaurant</td>\n",
       "      <td>restaurant</td>\n",
       "      <td>NaN</td>\n",
       "      <td>NaN</td>\n",
       "      <td>NaN</td>\n",
       "      <td>{'wheelchair': 'yes', 'name': \"Mel's Drive-in\"...</td>\n",
       "      <td>37.799551</td>\n",
       "      <td>-122.437048</td>\n",
       "    </tr>\n",
       "    <tr>\n",
       "      <th>39918</th>\n",
       "      <td>2024-05-31</td>\n",
       "      <td>node</td>\n",
       "      <td>286898816.0</td>\n",
       "      <td>Saint Anthony - Immaculate Conception</td>\n",
       "      <td>amenity:school</td>\n",
       "      <td>school</td>\n",
       "      <td>NaN</td>\n",
       "      <td>NaN</td>\n",
       "      <td>NaN</td>\n",
       "      <td>{'amenity': 'school', 'name': 'Saint Anthony -...</td>\n",
       "      <td>37.747379</td>\n",
       "      <td>-122.413844</td>\n",
       "    </tr>\n",
       "    <tr>\n",
       "      <th>39919</th>\n",
       "      <td>2024-05-31</td>\n",
       "      <td>node</td>\n",
       "      <td>302448629.0</td>\n",
       "      <td>Mezze and Mooore</td>\n",
       "      <td>amenity:restaurant</td>\n",
       "      <td>restaurant</td>\n",
       "      <td>NaN</td>\n",
       "      <td>NaN</td>\n",
       "      <td>NaN</td>\n",
       "      <td>{'addr:city': 'San Francisco', 'addr:country':...</td>\n",
       "      <td>37.768092</td>\n",
       "      <td>-122.424586</td>\n",
       "    </tr>\n",
       "  </tbody>\n",
       "</table>\n",
       "</div>"
      ],
      "text/plain": [
       "      snapshot_date osm_type       osm_id  \\\n",
       "39915    2024-05-31     node  140982581.0   \n",
       "39916    2024-05-31     node  281652642.0   \n",
       "39917    2024-05-31     node  286132370.0   \n",
       "39918    2024-05-31     node  286898816.0   \n",
       "39919    2024-05-31     node  302448629.0   \n",
       "\n",
       "                                        name        feature_type     amenity  \\\n",
       "39915                     Opera Plaza Cinema      amenity:cinema      cinema   \n",
       "39916             John O'Connell High School      amenity:school      school   \n",
       "39917                         Mel's Drive-in  amenity:restaurant  restaurant   \n",
       "39918  Saint Anthony - Immaculate Conception      amenity:school      school   \n",
       "39919                       Mezze and Mooore  amenity:restaurant  restaurant   \n",
       "\n",
       "      social_facility highway bridge  \\\n",
       "39915             NaN     NaN    NaN   \n",
       "39916             NaN     NaN    NaN   \n",
       "39917             NaN     NaN    NaN   \n",
       "39918             NaN     NaN    NaN   \n",
       "39919             NaN     NaN    NaN   \n",
       "\n",
       "                                                    tags        lat  \\\n",
       "39915  {'wikidata': 'Q44634616', 'addr:city': 'San Fr...  37.781376   \n",
       "39916  {'amenity': 'school', 'name': \"John O'Connell ...  37.759543   \n",
       "39917  {'wheelchair': 'yes', 'name': \"Mel's Drive-in\"...  37.799551   \n",
       "39918  {'amenity': 'school', 'name': 'Saint Anthony -...  37.747379   \n",
       "39919  {'addr:city': 'San Francisco', 'addr:country':...  37.768092   \n",
       "\n",
       "              lon  \n",
       "39915 -122.421561  \n",
       "39916 -122.414183  \n",
       "39917 -122.437048  \n",
       "39918 -122.413844  \n",
       "39919 -122.424586  "
      ]
     },
     "execution_count": 54,
     "metadata": {},
     "output_type": "execute_result"
    }
   ],
   "source": [
    "df_map.head()"
   ]
  },
  {
   "cell_type": "code",
   "execution_count": 56,
   "id": "9d100c64",
   "metadata": {},
   "outputs": [],
   "source": [
    "# Filter the dataframe to only include \"bridge\" and \"highway_link\"\n",
    "df_map = df_map[df_map['feature_type'].isin(['bridge', 'highway_link'])]"
   ]
  },
  {
   "cell_type": "code",
   "execution_count": 59,
   "id": "b85f895a",
   "metadata": {},
   "outputs": [
    {
     "data": {
      "text/plain": [
       "feature_type\n",
       "bridge          680\n",
       "highway_link    511\n",
       "Name: count, dtype: int64"
      ]
     },
     "execution_count": 59,
     "metadata": {},
     "output_type": "execute_result"
    }
   ],
   "source": [
    "df_map['feature_type'].value_counts()"
   ]
  },
  {
   "cell_type": "code",
   "execution_count": 64,
   "id": "e34687a4",
   "metadata": {},
   "outputs": [
    {
     "name": "stderr",
     "output_type": "stream",
     "text": [
      "  0%|          | 0/1191 [00:00<?, ?it/s]/var/folders/y6/z9h695vx2w3gbjh7z32h4j9m0000gn/T/ipykernel_1756/2882784046.py:17: UserWarning: color argument of Icon should be one of: {'blue', 'beige', 'purple', 'darkgreen', 'darkpurple', 'white', 'darkblue', 'lightblue', 'lightgray', 'cadetblue', 'lightred', 'red', 'green', 'pink', 'black', 'orange', 'gray', 'darkred', 'lightgreen'}.\n",
      "  icon=folium.Icon(color=color, icon=icon, size='small'),\n",
      "100%|██████████| 1191/1191 [00:00<00:00, 8754.52it/s]\n"
     ]
    }
   ],
   "source": [
    "from tqdm import tqdm\n",
    "\n",
    "# Create a amenity map centered at San Francisco\n",
    "m5 = folium.Map(location=[37.7749, -122.4194], zoom_start=12, tiles='CartoDB positron')\n",
    "\n",
    "# Add structure (bridge and highway_link) points to the map with different colors and shapes based on feature type\n",
    "for _, row in tqdm(df_map.iterrows(), total=df_map.shape[0]):\n",
    "    color = \"\"  # Default color\n",
    "    if row['feature_type'] == 'bridge':\n",
    "        color = \"#1984c5\"\n",
    "        icon = \"bridge\"\n",
    "    elif row['feature_type'] == 'highway_link':\n",
    "        color = \"#e14b31\"\n",
    "        icon = \"road\"\n",
    "    folium.Marker(\n",
    "        location=[row['lat'], row['lon']],\n",
    "        icon=folium.Icon(color=color, icon=icon, size='small'),\n",
    "        opacity = 0.5,\n",
    "    ).add_to(m5)\n",
    "    # folium.CircleMarker(\n",
    "    #     location = [row['lat'], row['lon']],\n",
    "    #     radius = 1.5,\n",
    "    #     color = color,\n",
    "    #     fill = True,\n",
    "    #     opacity = 0.5,\n",
    "    # ).add_to(m5)\n",
    "\n",
    "# Add a legend to the map for the different feature types\n",
    "legend_html = '''\n",
    "<div style=\"position: fixed;\n",
    "     bottom: 50px; left: 50px; width: 170px; height: 100px;\n",
    "     border:2px solid grey; z-index:9999; font-size:14px;\n",
    "     background-color:white; padding: 10px;\">\n",
    "     <b>Feature Types</b><br>\n",
    "     <i style=\"background:#1984c5; width:10px; height:10px; display:inline-block;\"></i> Bridge<br>\n",
    "     <i style=\"background:#e14b31; width:10px; height:10px; display:inline-block;\"></i> Highway Link<br>\n",
    "</div>\n",
    "'''\n",
    "\n",
    "# Add the legend HTML to the map with the updated title \"Feature Types\"\n",
    "m5.get_root().html.add_child(folium.Element(legend_html))\n",
    "\n",
    "# Save the feature map to an HTML file\n",
    "m5.save('feature_map_20250906.html')\n"
   ]
  },
  {
   "cell_type": "code",
   "execution_count": null,
   "id": "206e51cd",
   "metadata": {},
   "outputs": [],
   "source": []
  },
  {
   "cell_type": "code",
   "execution_count": null,
   "id": "cc7a5313",
   "metadata": {},
   "outputs": [],
   "source": []
  }
 ],
 "metadata": {
  "kernelspec": {
   "display_name": "homeless_env",
   "language": "python",
   "name": "python3"
  },
  "language_info": {
   "codemirror_mode": {
    "name": "ipython",
    "version": 3
   },
   "file_extension": ".py",
   "mimetype": "text/x-python",
   "name": "python",
   "nbconvert_exporter": "python",
   "pygments_lexer": "ipython3",
   "version": "3.11.11"
  }
 },
 "nbformat": 4,
 "nbformat_minor": 5
}
